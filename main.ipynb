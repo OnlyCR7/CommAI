{
 "cells": [
  {
   "cell_type": "code",
   "execution_count": 1,
   "id": "898ea238-7919-4468-bd9a-b60e45002a2a",
   "metadata": {},
   "outputs": [],
   "source": [
    "from flask import Flask, render_template, request, jsonify\n",
    "from langchain_ollama import OllamaLLM\n",
    "from langchain_core.prompts import ChatPromptTemplate\n",
    "import json"
   ]
  },
  {
   "cell_type": "code",
   "execution_count": 2,
   "id": "c0c29505-c5cc-4c84-a8ee-8db692096eb7",
   "metadata": {},
   "outputs": [],
   "source": [
    "template = \"\"\"\n",
    "Answer the question below.\n",
    "Here is the conversation history : {context}\n",
    "Question : {question}\n",
    "Answer : \n",
    "\"\"\""
   ]
  },
  {
   "cell_type": "code",
   "execution_count": 3,
   "id": "a8708745-4a7b-4dc4-b371-a1768a6306ff",
   "metadata": {},
   "outputs": [],
   "source": [
    "model = OllamaLLM(model = 'llama3')\n",
    "prompt = ChatPromptTemplate.from_template(template)\n",
    "chain = prompt | model"
   ]
  },
  {
   "cell_type": "code",
   "execution_count": 4,
   "id": "2a70ebac-a78f-4bc5-a330-f701df5c29b1",
   "metadata": {},
   "outputs": [
    {
     "name": "stdout",
     "output_type": "stream",
     "text": [
      "Wellcome to the AI Chatbot! Type 'exit' to quit.\n",
      "Bot : Hello!\n",
      "Bot : I'm doing great, thanks for asking! How about you?\n",
      "Bot : See you later!\n"
     ]
    }
   ],
   "source": [
    "def handle_conversation():\n",
    "    context = \"\"\n",
    "    print(\"Wellcome to the AI Chatbot! Type 'exit' to quit.\")\n",
    "    while True:\n",
    "        user_input = input(\"You : \")\n",
    "        if user_input.lower() == \"exit\":\n",
    "            break\n",
    "        result = chain.invoke({\"context\" : context, \"question\" : user_input})\n",
    "        print(\"Bot :\", result)\n",
    "        context += f\"\\nUser : {user_input}\\nAI : {result}\"\n",
    "\n",
    "if __name__ == \"__main__\":\n",
    "    handle_conversation()"
   ]
  },
  {
   "cell_type": "code",
   "execution_count": null,
   "id": "40bd7cc9-51bf-4689-b181-0a5526c02ba3",
   "metadata": {},
   "outputs": [],
   "source": []
  }
 ],
 "metadata": {
  "kernelspec": {
   "display_name": "Python 3 (ipykernel)",
   "language": "python",
   "name": "python3"
  },
  "language_info": {
   "codemirror_mode": {
    "name": "ipython",
    "version": 3
   },
   "file_extension": ".py",
   "mimetype": "text/x-python",
   "name": "python",
   "nbconvert_exporter": "python",
   "pygments_lexer": "ipython3",
   "version": "3.12.6"
  }
 },
 "nbformat": 4,
 "nbformat_minor": 5
}
